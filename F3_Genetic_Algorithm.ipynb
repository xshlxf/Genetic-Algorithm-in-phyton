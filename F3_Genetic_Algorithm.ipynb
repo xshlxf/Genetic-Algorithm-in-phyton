{
  "nbformat": 4,
  "nbformat_minor": 0,
  "metadata": {
    "colab": {
      "provenance": []
    },
    "kernelspec": {
      "name": "python3",
      "display_name": "Python 3"
    },
    "language_info": {
      "name": "python"
    }
  },
  "cells": [
    {
      "cell_type": "code",
      "source": [
        "\"\"\"\n",
        "Description:\n",
        "This script implements a Genetic Algorithm to solve a resource allocation problem in distributed systems.\n",
        "The goal is to minimize the makespan (maximum load on any node) and balance the distribution of tasks\n",
        "across nodes with varying capacities.\n",
        "\n",
        "Main components:\n",
        "- `initialize_population`: Generates a random population of candidate solutions.\n",
        "- `fitness`: Evaluates how good a solution is by calculating the negative makespan.\n",
        "- `selection`: Selects individuals for crossover using tournament selection.\n",
        "- `crossover`: Creates new offspring using uniform crossover.\n",
        "- `mutate`: Introduces randomness to avoid local optima.\n",
        "- `evolve_population`: Evolves the population through selection, crossover, and mutation.\n",
        "- `plot_fitness_curve`: Plots the evolution of the best fitness across generations.\n",
        "\n",
        "Run this script to simulate the GA and view the fitness plot.\n",
        "\"\"\"\n"
      ],
      "metadata": {
        "id": "ePac72vU1qEb"
      },
      "execution_count": null,
      "outputs": []
    },
    {
      "cell_type": "code",
      "execution_count": null,
      "metadata": {
        "id": "W8okOaryNEGF"
      },
      "outputs": [],
      "source": [
        "# Genetic Algorithm for Task Scheduling in Distributed Systems\n",
        "import random\n",
        "import matplotlib.pyplot as plt"
      ]
    },
    {
      "cell_type": "code",
      "source": [
        "# Node capacities (CPU cores, Memory GB, Bandwidth Mbps)\n",
        "nodes = [\n",
        "    {\"cpu\": 8, \"mem\": 16, \"bw\": 100},\n",
        "    {\"cpu\": 4, \"mem\": 32, \"bw\": 50},\n",
        "    {\"cpu\": 16, \"mem\": 8, \"bw\": 200},\n",
        "    {\"cpu\": 12, \"mem\": 24, \"bw\": 150},\n",
        "    {\"cpu\": 6, \"mem\": 12, \"bw\": 80},\n",
        "]"
      ],
      "metadata": {
        "id": "FCVMnKtZNV5r"
      },
      "execution_count": null,
      "outputs": []
    },
    {
      "cell_type": "code",
      "source": [
        "# Task requirements and execution times per node\n",
        "tasks = [\n",
        "    {\"cpu\": 2, \"mem\": 4, \"bw\": 30, \"exec_times\": [10, 15, 8, 12, 14]},\n",
        "    {\"cpu\": 4, \"mem\": 8, \"bw\": 20, \"exec_times\": [12, 20, 9, 10, 13]},\n",
        "    {\"cpu\": 1, \"mem\": 2, \"bw\": 10, \"exec_times\": [8, 10, 7, 9, 11]},\n",
        "    {\"cpu\": 3, \"mem\": 6, \"bw\": 25, \"exec_times\": [14, 18, 10, 13, 15]},\n",
        "    {\"cpu\": 2, \"mem\": 4, \"bw\": 15, \"exec_times\": [9, 13, 6, 8, 10]},\n",
        "    {\"cpu\": 5, \"mem\": 10, \"bw\": 40, \"exec_times\": [20, 25, 14, 18, 22]},\n",
        "    {\"cpu\": 2, \"mem\": 4, \"bw\": 30, \"exec_times\": [10, 14, 9, 12, 13]},\n",
        "    {\"cpu\": 1, \"mem\": 3, \"bw\": 20, \"exec_times\": [7, 11, 5, 6, 9]},\n",
        "    {\"cpu\": 3, \"mem\": 5, \"bw\": 35, \"exec_times\": [15, 19, 12, 14, 17]},\n",
        "    {\"cpu\": 4, \"mem\": 6, \"bw\": 50, \"exec_times\": [18, 22, 16, 20, 23]},\n",
        "]"
      ],
      "metadata": {
        "id": "AskgTMHqNboI"
      },
      "execution_count": null,
      "outputs": []
    },
    {
      "cell_type": "code",
      "source": [
        "# GA parameters\n",
        "POP_SIZE = 30\n",
        "NUM_GENERATIONS = 50\n",
        "MUTATION_RATE = 0.1"
      ],
      "metadata": {
        "id": "sQDiekILNfO3"
      },
      "execution_count": null,
      "outputs": []
    },
    {
      "cell_type": "code",
      "source": [
        "# Generate a random individual (a schedule)\n",
        "def generate_individual():\n",
        "    return [random.randint(0, len(nodes) - 1) for _ in range(len(tasks))]"
      ],
      "metadata": {
        "id": "eg1pkJIjNgI5"
      },
      "execution_count": null,
      "outputs": []
    },
    {
      "cell_type": "code",
      "source": [
        "# Calculate fitness of an individual\n",
        "def calculate_fitness(individual):\n",
        "    usage = {i: {\"cpu\": 0, \"mem\": 0, \"bw\": 0, \"time\": 0} for i in range(len(nodes))}\n",
        "    penalty = 0\n",
        "\n",
        "    for i, node_id in enumerate(individual):\n",
        "        task = tasks[i]\n",
        "        node = nodes[node_id]\n",
        "        used = usage[node_id]\n",
        "\n",
        "        if (used[\"cpu\"] + task[\"cpu\"] > node[\"cpu\"] * 0.8 or\n",
        "            used[\"mem\"] + task[\"mem\"] > node[\"mem\"] * 0.9 or\n",
        "            used[\"bw\"] + task[\"bw\"] > node[\"bw\"] * 0.75):\n",
        "            penalty += 1000\n",
        "        else:\n",
        "            used[\"cpu\"] += task[\"cpu\"]\n",
        "            used[\"mem\"] += task[\"mem\"]\n",
        "            used[\"bw\"] += task[\"bw\"]\n",
        "            used[\"time\"] += task[\"exec_times\"][node_id]\n",
        "\n",
        "    makespan = max([v[\"time\"] for v in usage.values()])\n",
        "    return -makespan - penalty"
      ],
      "metadata": {
        "id": "NyrCwIqRNmPH"
      },
      "execution_count": null,
      "outputs": []
    },
    {
      "cell_type": "code",
      "source": [
        "# Selection (tournament)\n",
        "def select(population, fitnesses):\n",
        "    best = None\n",
        "    for _ in range(3):\n",
        "        i = random.randint(0, len(population) - 1)\n",
        "        if best is None or fitnesses[i] > fitnesses[best]:\n",
        "            best = i\n",
        "    return population[best]\n",
        "\n",
        "# Crossover\n",
        "def crossover(p1, p2):\n",
        "    point = random.randint(1, len(p1) - 2)\n",
        "    return p1[:point] + p2[point:]\n",
        "\n",
        "# Mutation\n",
        "def mutate(individual):\n",
        "    for i in range(len(individual)):\n",
        "        if random.random() < MUTATION_RATE:\n",
        "            individual[i] = random.randint(0, len(nodes) - 1)"
      ],
      "metadata": {
        "id": "681G1QSlNnkP"
      },
      "execution_count": null,
      "outputs": []
    },
    {
      "cell_type": "code",
      "source": [
        "# GA main loop\n",
        "def genetic_algorithm():\n",
        "    population = [generate_individual() for _ in range(POP_SIZE)]\n",
        "    best_solution = None\n",
        "    best_fitness = float('-inf')\n",
        "    fitness_history = []\n",
        "\n",
        "    for gen in range(NUM_GENERATIONS):\n",
        "        fitnesses = [calculate_fitness(ind) for ind in population]\n",
        "        new_population = []\n",
        "\n",
        "        for _ in range(POP_SIZE):\n",
        "            p1 = select(population, fitnesses)\n",
        "            p2 = select(population, fitnesses)\n",
        "            child = crossover(p1, p2)\n",
        "            mutate(child)\n",
        "            new_population.append(child)\n",
        "\n",
        "        population = new_population\n",
        "\n",
        "        gen_best = max(zip(population, fitnesses), key=lambda x: x[1])\n",
        "        if gen_best[1] > best_fitness:\n",
        "            best_solution, best_fitness = gen_best\n",
        "        fitness_history.append(best_fitness)\n",
        "\n",
        "        print(f\"Generation {gen+1}, Best Fitness: {best_fitness}\")\n",
        "\n",
        "    return best_solution, best_fitness, fitness_history"
      ],
      "metadata": {
        "id": "U0DzNO6UNt0X"
      },
      "execution_count": null,
      "outputs": []
    },
    {
      "cell_type": "code",
      "source": [
        "# Run the algorithm\n",
        "best_solution, best_fitness, fitness_history = genetic_algorithm()\n"
      ],
      "metadata": {
        "colab": {
          "base_uri": "https://localhost:8080/"
        },
        "id": "Ibr6O_82NxKy",
        "outputId": "78275690-0ce0-4c3e-8b51-3a16d7e59241"
      },
      "execution_count": null,
      "outputs": [
        {
          "output_type": "stream",
          "name": "stdout",
          "text": [
            "Generation 1, Best Fitness: -2027\n",
            "Generation 2, Best Fitness: -2024\n",
            "Generation 3, Best Fitness: -1031\n",
            "Generation 4, Best Fitness: -1031\n",
            "Generation 5, Best Fitness: -1031\n",
            "Generation 6, Best Fitness: -1031\n",
            "Generation 7, Best Fitness: -1031\n",
            "Generation 8, Best Fitness: -1028\n",
            "Generation 9, Best Fitness: -1028\n",
            "Generation 10, Best Fitness: -1027\n",
            "Generation 11, Best Fitness: -1027\n",
            "Generation 12, Best Fitness: -1027\n",
            "Generation 13, Best Fitness: -1027\n",
            "Generation 14, Best Fitness: -1027\n",
            "Generation 15, Best Fitness: -1027\n",
            "Generation 16, Best Fitness: -1027\n",
            "Generation 17, Best Fitness: -1027\n",
            "Generation 18, Best Fitness: -1027\n",
            "Generation 19, Best Fitness: -1027\n",
            "Generation 20, Best Fitness: -1027\n",
            "Generation 21, Best Fitness: -1027\n",
            "Generation 22, Best Fitness: -1027\n",
            "Generation 23, Best Fitness: -1027\n",
            "Generation 24, Best Fitness: -1027\n",
            "Generation 25, Best Fitness: -1027\n",
            "Generation 26, Best Fitness: -1027\n",
            "Generation 27, Best Fitness: -1027\n",
            "Generation 28, Best Fitness: -1027\n",
            "Generation 29, Best Fitness: -1027\n",
            "Generation 30, Best Fitness: -1027\n",
            "Generation 31, Best Fitness: -1027\n",
            "Generation 32, Best Fitness: -1027\n",
            "Generation 33, Best Fitness: -1026\n",
            "Generation 34, Best Fitness: -1026\n",
            "Generation 35, Best Fitness: -1026\n",
            "Generation 36, Best Fitness: -1026\n",
            "Generation 37, Best Fitness: -1026\n",
            "Generation 38, Best Fitness: -1026\n",
            "Generation 39, Best Fitness: -1026\n",
            "Generation 40, Best Fitness: -1026\n",
            "Generation 41, Best Fitness: -1026\n",
            "Generation 42, Best Fitness: -1026\n",
            "Generation 43, Best Fitness: -1026\n",
            "Generation 44, Best Fitness: -1026\n",
            "Generation 45, Best Fitness: -1026\n",
            "Generation 46, Best Fitness: -1026\n",
            "Generation 47, Best Fitness: -1026\n",
            "Generation 48, Best Fitness: -1026\n",
            "Generation 49, Best Fitness: -1026\n",
            "Generation 50, Best Fitness: -1026\n"
          ]
        }
      ]
    },
    {
      "cell_type": "code",
      "source": [
        "# Display results\n",
        "print(\"\\nBest Task-to-Node Assignment:\")\n",
        "for i, node in enumerate(best_solution):\n",
        "    print(f\"Task {i+1} -> Node {node+1}\")"
      ],
      "metadata": {
        "id": "U2qVS2uIN2Z9",
        "outputId": "e110cb69-e5a8-4486-cb11-375357f10fc0",
        "colab": {
          "base_uri": "https://localhost:8080/"
        }
      },
      "execution_count": null,
      "outputs": [
        {
          "output_type": "stream",
          "name": "stdout",
          "text": [
            "\n",
            "Best Task-to-Node Assignment:\n",
            "Task 1 -> Node 5\n",
            "Task 2 -> Node 1\n",
            "Task 3 -> Node 3\n",
            "Task 4 -> Node 2\n",
            "Task 5 -> Node 1\n",
            "Task 6 -> Node 4\n",
            "Task 7 -> Node 1\n",
            "Task 8 -> Node 3\n",
            "Task 9 -> Node 1\n",
            "Task 10 -> Node 4\n"
          ]
        }
      ]
    },
    {
      "cell_type": "code",
      "source": [
        "# Plot fitness over generations\n",
        "plt.plot(fitness_history)\n",
        "plt.title(\"Fitness Evolution Over Generations\")\n",
        "plt.xlabel(\"Generation\")\n",
        "plt.ylabel(\"Fitness\")\n",
        "plt.grid()\n",
        "plt.show()"
      ],
      "metadata": {
        "id": "8AvObIe1N457",
        "outputId": "f0ec933e-9299-4e46-c076-173a8bd8ea96",
        "colab": {
          "base_uri": "https://localhost:8080/",
          "height": 472
        }
      },
      "execution_count": null,
      "outputs": [
        {
          "output_type": "display_data",
          "data": {
            "text/plain": [
              "<Figure size 640x480 with 1 Axes>"
            ],
            "image/png": "[encoded data removed]"
          },
          "metadata": {}
        }
      ]
    }
  ]
}